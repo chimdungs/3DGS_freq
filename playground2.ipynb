{
 "cells": [
  {
   "cell_type": "code",
   "execution_count": null,
   "metadata": {},
   "outputs": [],
   "source": [
    "import numpy as np\n",
    "import torch\n"
   ]
  },
  {
   "cell_type": "code",
   "execution_count": null,
   "metadata": {},
   "outputs": [],
   "source": [
    "from argparse import ArgumentParser, Namespace\n",
    "from arguments import ModelParams, PipelineParams, OptimizationParams\n",
    "\n",
    "# necessary model params\n",
    "start_from_ckpt = True\n",
    "\n",
    "class MParams:\n",
    "    def __init__(self):\n",
    "        self.source_path = '/home/archmelow/workfolder/dataset/nerf_synthetic/lego'\n",
    "        if start_from_ckpt:\n",
    "            self.add_points = False # True to add random points, False to test on original pretrained pcd points\n",
    "            self.model_path = \"/home/archmelow/workfolder/gaussian_models_0412/lego\"\n",
    "        else:\n",
    "            self.random_init_scratch = None # add random points, starting from scratch\n",
    "            self.model_path = ''\n",
    "\n",
    "        self.images = \"images\"\n",
    "\n",
    "        self.sh_degree = 3\n",
    "        self.resolution = -1\n",
    "        self.white_background = False\n",
    "        self.data_device = \"cuda:0\"\n",
    "        self.eval = False\n",
    "\n",
    "        self.test_iters = 7000\n",
    "        self.save_iters = 7000\n",
    "        self.add_points = False\n",
    "        self.data_name = \"\"\n",
    "        self.experiment_dir = \"\"\n",
    "        self.exp_name = \"\"\n",
    "        self.patch = 1\n",
    "        self.proportion = 0.1\n",
    "# pipeline params\n",
    "class PipeParams:\n",
    "    def __init__(self):\n",
    "        self.convert_SHs_python = False\n",
    "        self.compute_cov3D_python = False\n",
    "        self.debug = False\n",
    "\n",
    "# opt params \n",
    "class OptParams:\n",
    "    def __init__(self):\n",
    "        self.iterations = 30_000\n",
    "        self.position_lr_init = 0.00016\n",
    "        self.position_lr_final = 0.0000016\n",
    "        self.position_lr_delay_mult = 0.01\n",
    "        self.position_lr_max_steps = 30_000\n",
    "        self.feature_lr = 0.0025\n",
    "        self.opacity_lr = 0.05\n",
    "        self.scaling_lr = 0.005\n",
    "        self.rotation_lr = 0.001\n",
    "        self.percent_dense = 0.01\n",
    "        self.lambda_dssim = 0.2\n",
    "        self.densification_interval = 100\n",
    "        self.opacity_reset_interval = 3000\n",
    "        self.densify_from_iter = 500\n",
    "        self.densify_until_iter = 15_000\n",
    "        self.densify_grad_threshold = 0.0002\n",
    "        self.random_background = False\n",
    "\n",
    "\n"
   ]
  },
  {
   "cell_type": "code",
   "execution_count": null,
   "metadata": {},
   "outputs": [],
   "source": [
    "params_ = MParams()\n",
    "opt_params_ = OptParams()\n",
    "pipe_params_ = PipeParams()"
   ]
  },
  {
   "cell_type": "code",
   "execution_count": 13,
   "metadata": {},
   "outputs": [
    {
     "name": "stdout",
     "output_type": "stream",
     "text": [
      "Loading Training Cameras\n",
      "Loading Test Cameras\n"
     ]
    }
   ],
   "source": [
    "from scene import Scene, GaussianModel\n",
    "\n",
    "gaussians = GaussianModel(sh_degree=params_.sh_degree)\n",
    "scene = Scene(params_, gaussians, load_iteration=-1)\n"
   ]
  }
 ],
 "metadata": {
  "kernelspec": {
   "display_name": "gaussian_splatting",
   "language": "python",
   "name": "python3"
  },
  "language_info": {
   "codemirror_mode": {
    "name": "ipython",
    "version": 3
   },
   "file_extension": ".py",
   "mimetype": "text/x-python",
   "name": "python",
   "nbconvert_exporter": "python",
   "pygments_lexer": "ipython3",
   "version": "3.7.13"
  }
 },
 "nbformat": 4,
 "nbformat_minor": 2
}
